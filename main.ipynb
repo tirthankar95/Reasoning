{
 "cells": [
  {
   "cell_type": "code",
   "execution_count": 1,
   "id": "884decfd",
   "metadata": {},
   "outputs": [
    {
     "name": "stderr",
     "output_type": "stream",
     "text": [
      "/home/devcloud/idcenv/lib/python3.12/site-packages/tqdm/auto.py:21: TqdmWarning: IProgress not found. Please update jupyter and ipywidgets. See https://ipywidgets.readthedocs.io/en/stable/user_install.html\n",
      "  from .autonotebook import tqdm as notebook_tqdm\n"
     ]
    }
   ],
   "source": [
    "import numpy as np \n",
    "import pandas as pd \n",
    "pd.set_option('display.max_columns', None)\n",
    "pd.set_option('display.max_colwidth', None)\n",
    "import matplotlib.pyplot as plt \n",
    "import seaborn as sns \n",
    "import json\n",
    "import transformers\n",
    "from transformers import GenerationConfig\n",
    "from transformers import AutoTokenizer, AutoModelForCausalLM\n",
    "from langchain_core.prompts import ChatPromptTemplate"
   ]
  },
  {
   "cell_type": "code",
   "execution_count": 2,
   "id": "c067a381",
   "metadata": {},
   "outputs": [
    {
     "data": {
      "text/html": [
       "<div>\n",
       "<style scoped>\n",
       "    .dataframe tbody tr th:only-of-type {\n",
       "        vertical-align: middle;\n",
       "    }\n",
       "\n",
       "    .dataframe tbody tr th {\n",
       "        vertical-align: top;\n",
       "    }\n",
       "\n",
       "    .dataframe thead th {\n",
       "        text-align: right;\n",
       "    }\n",
       "</style>\n",
       "<table border=\"1\" class=\"dataframe\">\n",
       "  <thead>\n",
       "    <tr style=\"text-align: right;\">\n",
       "      <th></th>\n",
       "      <th>0</th>\n",
       "      <th>1</th>\n",
       "      <th>2</th>\n",
       "      <th>3</th>\n",
       "      <th>4</th>\n",
       "    </tr>\n",
       "  </thead>\n",
       "  <tbody>\n",
       "    <tr>\n",
       "      <th>ID</th>\n",
       "      <td>1983-1</td>\n",
       "      <td>1983-2</td>\n",
       "      <td>1983-3</td>\n",
       "      <td>1983-4</td>\n",
       "      <td>1983-5</td>\n",
       "    </tr>\n",
       "    <tr>\n",
       "      <th>Year</th>\n",
       "      <td>1983</td>\n",
       "      <td>1983</td>\n",
       "      <td>1983</td>\n",
       "      <td>1983</td>\n",
       "      <td>1983</td>\n",
       "    </tr>\n",
       "    <tr>\n",
       "      <th>Problem Number</th>\n",
       "      <td>1</td>\n",
       "      <td>2</td>\n",
       "      <td>3</td>\n",
       "      <td>4</td>\n",
       "      <td>5</td>\n",
       "    </tr>\n",
       "    <tr>\n",
       "      <th>Question</th>\n",
       "      <td>Let $x$ , $y$ and $z$ all exceed $1$ and let $w$ be a positive number such that $\\log_xw=24$ , $\\log_y w = 40$ and $\\log_{xyz}w=12$ . Find $\\log_zw$ .</td>\n",
       "      <td>Let $f(x)=|x-p|+|x-15|+|x-p-15|$ , where $0 &lt; p &lt; 15$ . Determine the minimum value taken by $f(x)$ for $x$ in the interval $p \\leq x\\leq15$ .</td>\n",
       "      <td>What is the product of the real roots of the equation $x^2 + 18x + 30 = 2 \\sqrt{x^2 + 18x + 45}$ ?</td>\n",
       "      <td>A machine-shop cutting tool has the shape of a notched circle, as shown. The radius of the circle is $\\sqrt{50}$ cm, the length of $AB$ is $6$ cm and that of $BC$ is $2$ cm. The angle $ABC$ is a right angle. Find the square of the distance (in centimeters) from $B$ to the center of the circle. [asy] size(150); defaultpen(linewidth(0.6)+fontsize(11)); real r=10; pair O=(0,0), A=r*dir(45),B=(A.x,A.y-r); path P=circle(O,r); pair C=intersectionpoint(B--(B.x+r,B.y),P); // Drawing arc instead of full circle //draw(P); draw(arc(O, r, degrees(A), degrees(C))); draw(C--B--A--B); dot(A); dot(B); dot(C); label(\"$A$\",A,NE); label(\"$B$\",B,S); label(\"$C$\",C,SE); [/asy]</td>\n",
       "      <td>Suppose that the sum of the squares of two complex numbers $x$ and $y$ is $7$ and the sum of the cubes is $10$ . What is the largest real value that $x + y$ can have?</td>\n",
       "    </tr>\n",
       "    <tr>\n",
       "      <th>Answer</th>\n",
       "      <td>60</td>\n",
       "      <td>15</td>\n",
       "      <td>20</td>\n",
       "      <td>26</td>\n",
       "      <td>4</td>\n",
       "    </tr>\n",
       "    <tr>\n",
       "      <th>Part</th>\n",
       "      <td>NaN</td>\n",
       "      <td>NaN</td>\n",
       "      <td>NaN</td>\n",
       "      <td>NaN</td>\n",
       "      <td>NaN</td>\n",
       "    </tr>\n",
       "  </tbody>\n",
       "</table>\n",
       "</div>"
      ],
      "text/plain": [
       "                                                                                                                                                                     0  \\\n",
       "ID                                                                                                                                                              1983-1   \n",
       "Year                                                                                                                                                              1983   \n",
       "Problem Number                                                                                                                                                       1   \n",
       "Question        Let $x$ , $y$ and $z$ all exceed $1$ and let $w$ be a positive number such that $\\log_xw=24$ , $\\log_y w = 40$ and $\\log_{xyz}w=12$ . Find $\\log_zw$ .   \n",
       "Answer                                                                                                                                                              60   \n",
       "Part                                                                                                                                                               NaN   \n",
       "\n",
       "                                                                                                                                                             1  \\\n",
       "ID                                                                                                                                                      1983-2   \n",
       "Year                                                                                                                                                      1983   \n",
       "Problem Number                                                                                                                                               2   \n",
       "Question        Let $f(x)=|x-p|+|x-15|+|x-p-15|$ , where $0 < p < 15$ . Determine the minimum value taken by $f(x)$ for $x$ in the interval $p \\leq x\\leq15$ .   \n",
       "Answer                                                                                                                                                      15   \n",
       "Part                                                                                                                                                       NaN   \n",
       "\n",
       "                                                                                                                 2  \\\n",
       "ID                                                                                                          1983-3   \n",
       "Year                                                                                                          1983   \n",
       "Problem Number                                                                                                   3   \n",
       "Question        What is the product of the real roots of the equation $x^2 + 18x + 30 = 2 \\sqrt{x^2 + 18x + 45}$ ?   \n",
       "Answer                                                                                                          20   \n",
       "Part                                                                                                           NaN   \n",
       "\n",
       "                                                                                                                                                                                                                                                                                                                                                                                                                                                                                                                                                                                                                                                                                                      3  \\\n",
       "ID                                                                                                                                                                                                                                                                                                                                                                                                                                                                                                                                                                                                                                                                                               1983-4   \n",
       "Year                                                                                                                                                                                                                                                                                                                                                                                                                                                                                                                                                                                                                                                                                               1983   \n",
       "Problem Number                                                                                                                                                                                                                                                                                                                                                                                                                                                                                                                                                                                                                                                                                        4   \n",
       "Question        A machine-shop cutting tool has the shape of a notched circle, as shown. The radius of the circle is $\\sqrt{50}$ cm, the length of $AB$ is $6$ cm and that of $BC$ is $2$ cm. The angle $ABC$ is a right angle. Find the square of the distance (in centimeters) from $B$ to the center of the circle. [asy] size(150); defaultpen(linewidth(0.6)+fontsize(11)); real r=10; pair O=(0,0), A=r*dir(45),B=(A.x,A.y-r); path P=circle(O,r); pair C=intersectionpoint(B--(B.x+r,B.y),P); // Drawing arc instead of full circle //draw(P); draw(arc(O, r, degrees(A), degrees(C))); draw(C--B--A--B); dot(A); dot(B); dot(C); label(\"$A$\",A,NE); label(\"$B$\",B,S); label(\"$C$\",C,SE); [/asy]   \n",
       "Answer                                                                                                                                                                                                                                                                                                                                                                                                                                                                                                                                                                                                                                                                                               26   \n",
       "Part                                                                                                                                                                                                                                                                                                                                                                                                                                                                                                                                                                                                                                                                                                NaN   \n",
       "\n",
       "                                                                                                                                                                                     4  \n",
       "ID                                                                                                                                                                              1983-5  \n",
       "Year                                                                                                                                                                              1983  \n",
       "Problem Number                                                                                                                                                                       5  \n",
       "Question        Suppose that the sum of the squares of two complex numbers $x$ and $y$ is $7$ and the sum of the cubes is $10$ . What is the largest real value that $x + y$ can have?  \n",
       "Answer                                                                                                                                                                               4  \n",
       "Part                                                                                                                                                                               NaN  "
      ]
     },
     "execution_count": 2,
     "metadata": {},
     "output_type": "execute_result"
    }
   ],
   "source": [
    "df = pd.read_csv('AIME_Dataset_1983_2024.csv')\n",
    "df.head().T"
   ]
  },
  {
   "cell_type": "code",
   "execution_count": 3,
   "id": "9cf87382",
   "metadata": {},
   "outputs": [
    {
     "name": "stdout",
     "output_type": "stream",
     "text": [
      "Part\n",
      "II    361\n",
      "I     348\n",
      "Name: count, dtype: int64\n",
      "\n",
      "-------------------------\n",
      "\n",
      "<class 'pandas.core.frame.DataFrame'>\n",
      "RangeIndex: 933 entries, 0 to 932\n",
      "Data columns (total 6 columns):\n",
      " #   Column          Non-Null Count  Dtype \n",
      "---  ------          --------------  ----- \n",
      " 0   ID              933 non-null    object\n",
      " 1   Year            933 non-null    int64 \n",
      " 2   Problem Number  933 non-null    int64 \n",
      " 3   Question        933 non-null    object\n",
      " 4   Answer          933 non-null    object\n",
      " 5   Part            709 non-null    object\n",
      "dtypes: int64(2), object(4)\n",
      "memory usage: 43.9+ KB\n"
     ]
    }
   ],
   "source": [
    "print(df['Part'].value_counts())\n",
    "print('\\n-------------------------\\n')\n",
    "df.info()"
   ]
  },
  {
   "cell_type": "code",
   "execution_count": 4,
   "id": "65e61bf0",
   "metadata": {},
   "outputs": [
    {
     "data": {
      "text/html": [
       "<div>\n",
       "<style scoped>\n",
       "    .dataframe tbody tr th:only-of-type {\n",
       "        vertical-align: middle;\n",
       "    }\n",
       "\n",
       "    .dataframe tbody tr th {\n",
       "        vertical-align: top;\n",
       "    }\n",
       "\n",
       "    .dataframe thead th {\n",
       "        text-align: right;\n",
       "    }\n",
       "</style>\n",
       "<table border=\"1\" class=\"dataframe\">\n",
       "  <thead>\n",
       "    <tr style=\"text-align: right;\">\n",
       "      <th></th>\n",
       "      <th>224</th>\n",
       "      <th>225</th>\n",
       "      <th>226</th>\n",
       "      <th>227</th>\n",
       "      <th>228</th>\n",
       "    </tr>\n",
       "  </thead>\n",
       "  <tbody>\n",
       "    <tr>\n",
       "      <th>ID</th>\n",
       "      <td>2000-I-1</td>\n",
       "      <td>2000-I-2</td>\n",
       "      <td>2000-I-3</td>\n",
       "      <td>2000-I-4</td>\n",
       "      <td>2000-I-5</td>\n",
       "    </tr>\n",
       "    <tr>\n",
       "      <th>Year</th>\n",
       "      <td>2000</td>\n",
       "      <td>2000</td>\n",
       "      <td>2000</td>\n",
       "      <td>2000</td>\n",
       "      <td>2000</td>\n",
       "    </tr>\n",
       "    <tr>\n",
       "      <th>Problem Number</th>\n",
       "      <td>1</td>\n",
       "      <td>2</td>\n",
       "      <td>3</td>\n",
       "      <td>4</td>\n",
       "      <td>5</td>\n",
       "    </tr>\n",
       "    <tr>\n",
       "      <th>Question</th>\n",
       "      <td>Find the least positive integer $n$ such that no matter how $10^{n}$ is expressed as the product of any two positive integers, at least one of these two integers contains the digit $0$ .</td>\n",
       "      <td>Let $u$ and $v$ be integers satisfying $0 &lt; v &lt; u$ . Let $A = (u,v)$ , let $B$ be the reflection of $A$ across the line $y = x$ , let $C$ be the reflection of $B$ across the y-axis, let $D$ be the reflection of $C$ across the x-axis, and let $E$ be the reflection of $D$ across the y-axis. The area of pentagon $ABCDE$ is $451$ . Find $u + v$ .</td>\n",
       "      <td>In the expansion of $(ax + b)^{2000},$ where $a$ and $b$ are relatively prime positive integers, the coefficients of $x^{2}$ and $x^{3}$ are equal. Find $a + b$ .</td>\n",
       "      <td>The diagram shows a rectangle that has been dissected into nine non-overlapping squares. Given that the width and the height of the rectangle are relatively prime positive integers, find the perimeter of the rectangle. [asy]defaultpen(linewidth(0.7)); draw((0,0)--(69,0)--(69,61)--(0,61)--(0,0));draw((36,0)--(36,36)--(0,36)); draw((36,33)--(69,33));draw((41,33)--(41,61));draw((25,36)--(25,61)); draw((34,36)--(34,45)--(25,45)); draw((36,36)--(36,38)--(34,38)); draw((36,38)--(41,38)); draw((34,45)--(41,45));[/asy]</td>\n",
       "      <td>Each of two boxes contains both black and white marbles, and the total number of marbles in the two boxes is $25.$ One marble is taken out of each box randomly. The probability that both marbles are black is $\\frac{27}{50},$ and the probability that both marbles are white is $\\frac{m}{n},$ where $m$ and $n$ are relatively prime positive integers. What is $m + n$ ?</td>\n",
       "    </tr>\n",
       "    <tr>\n",
       "      <th>Answer</th>\n",
       "      <td>8</td>\n",
       "      <td>21</td>\n",
       "      <td>667</td>\n",
       "      <td>260</td>\n",
       "      <td>26</td>\n",
       "    </tr>\n",
       "    <tr>\n",
       "      <th>Part</th>\n",
       "      <td>I</td>\n",
       "      <td>I</td>\n",
       "      <td>I</td>\n",
       "      <td>I</td>\n",
       "      <td>I</td>\n",
       "    </tr>\n",
       "  </tbody>\n",
       "</table>\n",
       "</div>"
      ],
      "text/plain": [
       "                                                                                                                                                                                                       224  \\\n",
       "ID                                                                                                                                                                                                2000-I-1   \n",
       "Year                                                                                                                                                                                                  2000   \n",
       "Problem Number                                                                                                                                                                                           1   \n",
       "Question        Find the least positive integer $n$ such that no matter how $10^{n}$ is expressed as the product of any two positive integers, at least one of these two integers contains the digit $0$ .   \n",
       "Answer                                                                                                                                                                                                   8   \n",
       "Part                                                                                                                                                                                                     I   \n",
       "\n",
       "                                                                                                                                                                                                                                                                                                                                                                     225  \\\n",
       "ID                                                                                                                                                                                                                                                                                                                                                              2000-I-2   \n",
       "Year                                                                                                                                                                                                                                                                                                                                                                2000   \n",
       "Problem Number                                                                                                                                                                                                                                                                                                                                                         2   \n",
       "Question        Let $u$ and $v$ be integers satisfying $0 < v < u$ . Let $A = (u,v)$ , let $B$ be the reflection of $A$ across the line $y = x$ , let $C$ be the reflection of $B$ across the y-axis, let $D$ be the reflection of $C$ across the x-axis, and let $E$ be the reflection of $D$ across the y-axis. The area of pentagon $ABCDE$ is $451$ . Find $u + v$ .   \n",
       "Answer                                                                                                                                                                                                                                                                                                                                                                21   \n",
       "Part                                                                                                                                                                                                                                                                                                                                                                   I   \n",
       "\n",
       "                                                                                                                                                                               226  \\\n",
       "ID                                                                                                                                                                        2000-I-3   \n",
       "Year                                                                                                                                                                          2000   \n",
       "Problem Number                                                                                                                                                                   3   \n",
       "Question        In the expansion of $(ax + b)^{2000},$ where $a$ and $b$ are relatively prime positive integers, the coefficients of $x^{2}$ and $x^{3}$ are equal. Find $a + b$ .   \n",
       "Answer                                                                                                                                                                         667   \n",
       "Part                                                                                                                                                                             I   \n",
       "\n",
       "                                                                                                                                                                                                                                                                                                                                                                                                                                                                                                                                                 227  \\\n",
       "ID                                                                                                                                                                                                                                                                                                                                                                                                                                                                                                                                          2000-I-4   \n",
       "Year                                                                                                                                                                                                                                                                                                                                                                                                                                                                                                                                            2000   \n",
       "Problem Number                                                                                                                                                                                                                                                                                                                                                                                                                                                                                                                                     4   \n",
       "Question        The diagram shows a rectangle that has been dissected into nine non-overlapping squares. Given that the width and the height of the rectangle are relatively prime positive integers, find the perimeter of the rectangle. [asy]defaultpen(linewidth(0.7)); draw((0,0)--(69,0)--(69,61)--(0,61)--(0,0));draw((36,0)--(36,36)--(0,36)); draw((36,33)--(69,33));draw((41,33)--(41,61));draw((25,36)--(25,61)); draw((34,36)--(34,45)--(25,45)); draw((36,36)--(36,38)--(34,38)); draw((36,38)--(41,38)); draw((34,45)--(41,45));[/asy]   \n",
       "Answer                                                                                                                                                                                                                                                                                                                                                                                                                                                                                                                                           260   \n",
       "Part                                                                                                                                                                                                                                                                                                                                                                                                                                                                                                                                               I   \n",
       "\n",
       "                                                                                                                                                                                                                                                                                                                                                                                           228  \n",
       "ID                                                                                                                                                                                                                                                                                                                                                                                    2000-I-5  \n",
       "Year                                                                                                                                                                                                                                                                                                                                                                                      2000  \n",
       "Problem Number                                                                                                                                                                                                                                                                                                                                                                               5  \n",
       "Question        Each of two boxes contains both black and white marbles, and the total number of marbles in the two boxes is $25.$ One marble is taken out of each box randomly. The probability that both marbles are black is $\\frac{27}{50},$ and the probability that both marbles are white is $\\frac{m}{n},$ where $m$ and $n$ are relatively prime positive integers. What is $m + n$ ?  \n",
       "Answer                                                                                                                                                                                                                                                                                                                                                                                      26  \n",
       "Part                                                                                                                                                                                                                                                                                                                                                                                         I  "
      ]
     },
     "execution_count": 4,
     "metadata": {},
     "output_type": "execute_result"
    }
   ],
   "source": [
    "df[df['Part'] == 'I'].head().T"
   ]
  },
  {
   "cell_type": "code",
   "execution_count": 5,
   "id": "5deb8999",
   "metadata": {},
   "outputs": [
    {
     "data": {
      "text/html": [
       "<div>\n",
       "<style scoped>\n",
       "    .dataframe tbody tr th:only-of-type {\n",
       "        vertical-align: middle;\n",
       "    }\n",
       "\n",
       "    .dataframe tbody tr th {\n",
       "        vertical-align: top;\n",
       "    }\n",
       "\n",
       "    .dataframe thead th {\n",
       "        text-align: right;\n",
       "    }\n",
       "</style>\n",
       "<table border=\"1\" class=\"dataframe\">\n",
       "  <thead>\n",
       "    <tr style=\"text-align: right;\">\n",
       "      <th></th>\n",
       "      <th>239</th>\n",
       "      <th>240</th>\n",
       "      <th>241</th>\n",
       "      <th>242</th>\n",
       "      <th>243</th>\n",
       "    </tr>\n",
       "  </thead>\n",
       "  <tbody>\n",
       "    <tr>\n",
       "      <th>ID</th>\n",
       "      <td>2000-II-2</td>\n",
       "      <td>2000-II-3</td>\n",
       "      <td>2000-II-4</td>\n",
       "      <td>2000-II-5</td>\n",
       "      <td>2000-II-6</td>\n",
       "    </tr>\n",
       "    <tr>\n",
       "      <th>Year</th>\n",
       "      <td>2000</td>\n",
       "      <td>2000</td>\n",
       "      <td>2000</td>\n",
       "      <td>2000</td>\n",
       "      <td>2000</td>\n",
       "    </tr>\n",
       "    <tr>\n",
       "      <th>Problem Number</th>\n",
       "      <td>2</td>\n",
       "      <td>3</td>\n",
       "      <td>4</td>\n",
       "      <td>5</td>\n",
       "      <td>6</td>\n",
       "    </tr>\n",
       "    <tr>\n",
       "      <th>Question</th>\n",
       "      <td>A point whose coordinates are both integers is called a lattice point.  How many lattice points lie on the hyperbola $x^2 - y^2 = 2000^2$ ?</td>\n",
       "      <td>A deck of forty cards consists of four 1's, four 2's,..., and four 10's.  A matching pair (two cards with the same number) is removed from the deck.  Given that these cards are not returned to the deck, let $m/n$ be the probability that two randomly selected cards also form a pair, where $m$ and $n$ are relatively prime positive integers.  Find $m + n.$</td>\n",
       "      <td>What is the smallest positive integer with six positive odd integer divisors and twelve positive even integer divisors?</td>\n",
       "      <td>Given eight distinguishable rings, let $n$ be the number of possible five-ring arrangements on the four fingers (not the thumb) of one hand. The order of rings on each finger is significant, but it is not required that each finger have a ring. Find the leftmost three nonzero digits of $n$ .</td>\n",
       "      <td>One base of a trapezoid is $100$ units longer than the other base. The segment that joins the midpoints of the legs divides the trapezoid into two regions whose areas are in the ratio $2: 3$ . Let $x$ be the length of the segment joining the legs of the trapezoid that is parallel to the bases and that divides the trapezoid into two regions of equal area. Find the greatest integer that does not exceed $x^2/100$ .</td>\n",
       "    </tr>\n",
       "    <tr>\n",
       "      <th>Answer</th>\n",
       "      <td>98</td>\n",
       "      <td>758</td>\n",
       "      <td>180</td>\n",
       "      <td>376</td>\n",
       "      <td>181</td>\n",
       "    </tr>\n",
       "    <tr>\n",
       "      <th>Part</th>\n",
       "      <td>II</td>\n",
       "      <td>II</td>\n",
       "      <td>II</td>\n",
       "      <td>II</td>\n",
       "      <td>II</td>\n",
       "    </tr>\n",
       "  </tbody>\n",
       "</table>\n",
       "</div>"
      ],
      "text/plain": [
       "                                                                                                                                                        239  \\\n",
       "ID                                                                                                                                                2000-II-2   \n",
       "Year                                                                                                                                                   2000   \n",
       "Problem Number                                                                                                                                            2   \n",
       "Question        A point whose coordinates are both integers is called a lattice point.  How many lattice points lie on the hyperbola $x^2 - y^2 = 2000^2$ ?   \n",
       "Answer                                                                                                                                                   98   \n",
       "Part                                                                                                                                                     II   \n",
       "\n",
       "                                                                                                                                                                                                                                                                                                                                                                                240  \\\n",
       "ID                                                                                                                                                                                                                                                                                                                                                                        2000-II-3   \n",
       "Year                                                                                                                                                                                                                                                                                                                                                                           2000   \n",
       "Problem Number                                                                                                                                                                                                                                                                                                                                                                    3   \n",
       "Question        A deck of forty cards consists of four 1's, four 2's,..., and four 10's.  A matching pair (two cards with the same number) is removed from the deck.  Given that these cards are not returned to the deck, let $m/n$ be the probability that two randomly selected cards also form a pair, where $m$ and $n$ are relatively prime positive integers.  Find $m + n.$   \n",
       "Answer                                                                                                                                                                                                                                                                                                                                                                          758   \n",
       "Part                                                                                                                                                                                                                                                                                                                                                                             II   \n",
       "\n",
       "                                                                                                                                     241  \\\n",
       "ID                                                                                                                             2000-II-4   \n",
       "Year                                                                                                                                2000   \n",
       "Problem Number                                                                                                                         4   \n",
       "Question        What is the smallest positive integer with six positive odd integer divisors and twelve positive even integer divisors?    \n",
       "Answer                                                                                                                               180   \n",
       "Part                                                                                                                                  II   \n",
       "\n",
       "                                                                                                                                                                                                                                                                                                                 242  \\\n",
       "ID                                                                                                                                                                                                                                                                                                         2000-II-5   \n",
       "Year                                                                                                                                                                                                                                                                                                            2000   \n",
       "Problem Number                                                                                                                                                                                                                                                                                                     5   \n",
       "Question        Given eight distinguishable rings, let $n$ be the number of possible five-ring arrangements on the four fingers (not the thumb) of one hand. The order of rings on each finger is significant, but it is not required that each finger have a ring. Find the leftmost three nonzero digits of $n$ .    \n",
       "Answer                                                                                                                                                                                                                                                                                                           376   \n",
       "Part                                                                                                                                                                                                                                                                                                              II   \n",
       "\n",
       "                                                                                                                                                                                                                                                                                                                                                                                                                                            243  \n",
       "ID                                                                                                                                                                                                                                                                                                                                                                                                                                    2000-II-6  \n",
       "Year                                                                                                                                                                                                                                                                                                                                                                                                                                       2000  \n",
       "Problem Number                                                                                                                                                                                                                                                                                                                                                                                                                                6  \n",
       "Question        One base of a trapezoid is $100$ units longer than the other base. The segment that joins the midpoints of the legs divides the trapezoid into two regions whose areas are in the ratio $2: 3$ . Let $x$ be the length of the segment joining the legs of the trapezoid that is parallel to the bases and that divides the trapezoid into two regions of equal area. Find the greatest integer that does not exceed $x^2/100$ .  \n",
       "Answer                                                                                                                                                                                                                                                                                                                                                                                                                                      181  \n",
       "Part                                                                                                                                                                                                                                                                                                                                                                                                                                         II  "
      ]
     },
     "execution_count": 5,
     "metadata": {},
     "output_type": "execute_result"
    }
   ],
   "source": [
    "df[df['Part'] == 'II'].head().T"
   ]
  },
  {
   "cell_type": "code",
   "execution_count": 6,
   "id": "5df4675b",
   "metadata": {},
   "outputs": [
    {
     "name": "stdout",
     "output_type": "stream",
     "text": [
      "YEAR: 2000\n"
     ]
    },
    {
     "data": {
      "text/html": [
       "<div>\n",
       "<style scoped>\n",
       "    .dataframe tbody tr th:only-of-type {\n",
       "        vertical-align: middle;\n",
       "    }\n",
       "\n",
       "    .dataframe tbody tr th {\n",
       "        vertical-align: top;\n",
       "    }\n",
       "\n",
       "    .dataframe thead th {\n",
       "        text-align: right;\n",
       "    }\n",
       "</style>\n",
       "<table border=\"1\" class=\"dataframe\">\n",
       "  <thead>\n",
       "    <tr style=\"text-align: right;\">\n",
       "      <th>Problem Number</th>\n",
       "      <th>2</th>\n",
       "      <th>3</th>\n",
       "      <th>4</th>\n",
       "      <th>5</th>\n",
       "      <th>6</th>\n",
       "    </tr>\n",
       "  </thead>\n",
       "  <tbody>\n",
       "    <tr>\n",
       "      <th>Part</th>\n",
       "      <td>[I, II]</td>\n",
       "      <td>[I, II]</td>\n",
       "      <td>[I, II]</td>\n",
       "      <td>[I, II]</td>\n",
       "      <td>[I, II]</td>\n",
       "    </tr>\n",
       "    <tr>\n",
       "      <th>Question</th>\n",
       "      <td>[Let $u$ and $v$ be integers satisfying $0 &lt; v &lt; u$ . Let $A = (u,v)$ , let $B$ be the reflection of $A$ across the line $y = x$ , let $C$ be the reflection of $B$ across the y-axis, let $D$ be the reflection of $C$ across the x-axis, and let $E$ be the reflection of $D$ across the y-axis. The area of pentagon $ABCDE$ is $451$ . Find $u + v$ ., A point whose coordinates are both integers is called a lattice point.  How many lattice points lie on the hyperbola $x^2 - y^2 = 2000^2$ ?]</td>\n",
       "      <td>[In the expansion of $(ax + b)^{2000},$ where $a$ and $b$ are relatively prime positive integers, the coefficients of $x^{2}$ and $x^{3}$ are equal. Find $a + b$ ., A deck of forty cards consists of four 1's, four 2's,..., and four 10's.  A matching pair (two cards with the same number) is removed from the deck.  Given that these cards are not returned to the deck, let $m/n$ be the probability that two randomly selected cards also form a pair, where $m$ and $n$ are relatively prime positive integers.  Find $m + n.$]</td>\n",
       "      <td>[The diagram shows a rectangle that has been dissected into nine non-overlapping squares. Given that the width and the height of the rectangle are relatively prime positive integers, find the perimeter of the rectangle. [asy]defaultpen(linewidth(0.7)); draw((0,0)--(69,0)--(69,61)--(0,61)--(0,0));draw((36,0)--(36,36)--(0,36)); draw((36,33)--(69,33));draw((41,33)--(41,61));draw((25,36)--(25,61)); draw((34,36)--(34,45)--(25,45)); draw((36,36)--(36,38)--(34,38)); draw((36,38)--(41,38)); draw((34,45)--(41,45));[/asy], What is the smallest positive integer with six positive odd integer divisors and twelve positive even integer divisors? ]</td>\n",
       "      <td>[Each of two boxes contains both black and white marbles, and the total number of marbles in the two boxes is $25.$ One marble is taken out of each box randomly. The probability that both marbles are black is $\\frac{27}{50},$ and the probability that both marbles are white is $\\frac{m}{n},$ where $m$ and $n$ are relatively prime positive integers. What is $m + n$ ?, Given eight distinguishable rings, let $n$ be the number of possible five-ring arrangements on the four fingers (not the thumb) of one hand. The order of rings on each finger is significant, but it is not required that each finger have a ring. Find the leftmost three nonzero digits of $n$ . ]</td>\n",
       "      <td>[For how many ordered pairs $(x,y)$ of integers is it true that $0 &lt; x &lt; y &lt; 10^{6}$ and that the arithmetic mean of $x$ and $y$ is exactly $2$ more than the geometric mean of $x$ and $y$ ?, One base of a trapezoid is $100$ units longer than the other base. The segment that joins the midpoints of the legs divides the trapezoid into two regions whose areas are in the ratio $2: 3$ . Let $x$ be the length of the segment joining the legs of the trapezoid that is parallel to the bases and that divides the trapezoid into two regions of equal area. Find the greatest integer that does not exceed $x^2/100$ .]</td>\n",
       "    </tr>\n",
       "  </tbody>\n",
       "</table>\n",
       "</div>"
      ],
      "text/plain": [
       "Problem Number                                                                                                                                                                                                                                                                                                                                                                                                                                                                                                        2  \\\n",
       "Part                                                                                                                                                                                                                                                                                                                                                                                                                                                                                                            [I, II]   \n",
       "Question        [Let $u$ and $v$ be integers satisfying $0 < v < u$ . Let $A = (u,v)$ , let $B$ be the reflection of $A$ across the line $y = x$ , let $C$ be the reflection of $B$ across the y-axis, let $D$ be the reflection of $C$ across the x-axis, and let $E$ be the reflection of $D$ across the y-axis. The area of pentagon $ABCDE$ is $451$ . Find $u + v$ ., A point whose coordinates are both integers is called a lattice point.  How many lattice points lie on the hyperbola $x^2 - y^2 = 2000^2$ ?]   \n",
       "\n",
       "Problem Number                                                                                                                                                                                                                                                                                                                                                                                                                                                                                                                                          3  \\\n",
       "Part                                                                                                                                                                                                                                                                                                                                                                                                                                                                                                                                              [I, II]   \n",
       "Question        [In the expansion of $(ax + b)^{2000},$ where $a$ and $b$ are relatively prime positive integers, the coefficients of $x^{2}$ and $x^{3}$ are equal. Find $a + b$ ., A deck of forty cards consists of four 1's, four 2's,..., and four 10's.  A matching pair (two cards with the same number) is removed from the deck.  Given that these cards are not returned to the deck, let $m/n$ be the probability that two randomly selected cards also form a pair, where $m$ and $n$ are relatively prime positive integers.  Find $m + n.$]   \n",
       "\n",
       "Problem Number                                                                                                                                                                                                                                                                                                                                                                                                                                                                                                                                                                                                                                                                 4  \\\n",
       "Part                                                                                                                                                                                                                                                                                                                                                                                                                                                                                                                                                                                                                                                                     [I, II]   \n",
       "Question        [The diagram shows a rectangle that has been dissected into nine non-overlapping squares. Given that the width and the height of the rectangle are relatively prime positive integers, find the perimeter of the rectangle. [asy]defaultpen(linewidth(0.7)); draw((0,0)--(69,0)--(69,61)--(0,61)--(0,0));draw((36,0)--(36,36)--(0,36)); draw((36,33)--(69,33));draw((41,33)--(41,61));draw((25,36)--(25,61)); draw((34,36)--(34,45)--(25,45)); draw((36,36)--(36,38)--(34,38)); draw((36,38)--(41,38)); draw((34,45)--(41,45));[/asy], What is the smallest positive integer with six positive odd integer divisors and twelve positive even integer divisors? ]   \n",
       "\n",
       "Problem Number                                                                                                                                                                                                                                                                                                                                                                                                                                                                                                                                                                                                                                                                                       5  \\\n",
       "Part                                                                                                                                                                                                                                                                                                                                                                                                                                                                                                                                                                                                                                                                                           [I, II]   \n",
       "Question        [Each of two boxes contains both black and white marbles, and the total number of marbles in the two boxes is $25.$ One marble is taken out of each box randomly. The probability that both marbles are black is $\\frac{27}{50},$ and the probability that both marbles are white is $\\frac{m}{n},$ where $m$ and $n$ are relatively prime positive integers. What is $m + n$ ?, Given eight distinguishable rings, let $n$ be the number of possible five-ring arrangements on the four fingers (not the thumb) of one hand. The order of rings on each finger is significant, but it is not required that each finger have a ring. Find the leftmost three nonzero digits of $n$ . ]   \n",
       "\n",
       "Problem Number                                                                                                                                                                                                                                                                                                                                                                                                                                                                                                                                                                                                                                6  \n",
       "Part                                                                                                                                                                                                                                                                                                                                                                                                                                                                                                                                                                                                                                    [I, II]  \n",
       "Question        [For how many ordered pairs $(x,y)$ of integers is it true that $0 < x < y < 10^{6}$ and that the arithmetic mean of $x$ and $y$ is exactly $2$ more than the geometric mean of $x$ and $y$ ?, One base of a trapezoid is $100$ units longer than the other base. The segment that joins the midpoints of the legs divides the trapezoid into two regions whose areas are in the ratio $2: 3$ . Let $x$ be the length of the segment joining the legs of the trapezoid that is parallel to the bases and that divides the trapezoid into two regions of equal area. Find the greatest integer that does not exceed $x^2/100$ .]  "
      ]
     },
     "execution_count": 6,
     "metadata": {},
     "output_type": "execute_result"
    }
   ],
   "source": [
    "print('YEAR: 2000')\n",
    "q_2000 = df[df['Year'] == 2000].groupby('Problem Number').agg({\n",
    "    'Part': lambda x: list(x),\n",
    "    'Question': lambda q: list(q)\n",
    "})\n",
    "\n",
    "q_2000 = q_2000[q_2000['Part'].apply(len) == 2]\n",
    "q_2000.head().T"
   ]
  },
  {
   "cell_type": "markdown",
   "id": "b2c11b51",
   "metadata": {},
   "source": [
    "**From investigating the above data it seems part I and part II might be some section of the exam and not the continuation of the same problem.**"
   ]
  },
  {
   "cell_type": "code",
   "execution_count": 7,
   "id": "8d11e641",
   "metadata": {},
   "outputs": [
    {
     "name": "stdout",
     "output_type": "stream",
     "text": [
      "Index(['ID', 'Year', 'Problem Number', 'Question', 'Answer', 'Part'], dtype='object')\n",
      "Index(['ID', 'Question', 'Answer'], dtype='object')\n"
     ]
    }
   ],
   "source": [
    "print(df.columns)\n",
    "df_redx = df.drop(columns=['Year', 'Problem Number', 'Part'], axis=1)\n",
    "print(df_redx.columns)"
   ]
  },
  {
   "cell_type": "code",
   "execution_count": 8,
   "id": "a5aa4fbb-f399-4a9a-89c7-5d9b169db8ba",
   "metadata": {},
   "outputs": [
    {
     "data": {
      "image/png": "[encoded data removed]",
      "text/plain": [
       "<Figure size 640x480 with 1 Axes>"
      ]
     },
     "metadata": {},
     "output_type": "display_data"
    }
   ],
   "source": [
    "plt.hist(x = [len(row['Question']) for idx, row in df_redx.iterrows()])\n",
    "plt.show()"
   ]
  },
  {
   "cell_type": "code",
   "execution_count": 9,
   "id": "d5f52060-c4dd-43a9-a8a2-734992f27cfb",
   "metadata": {},
   "outputs": [
    {
     "name": "stdout",
     "output_type": "stream",
     "text": [
      "Maximum problem length:\n"
     ]
    },
    {
     "data": {
      "text/plain": [
       "2657"
      ]
     },
     "execution_count": 9,
     "metadata": {},
     "output_type": "execute_result"
    }
   ],
   "source": [
    "print('Maximum problem length:')\n",
    "mx_len = max([len(row['Question']) for idx, row in df_redx.iterrows()])\n",
    "max([len(row['Question']) for idx, row in df_redx.iterrows()])"
   ]
  },
  {
   "cell_type": "markdown",
   "id": "c5c58ef1",
   "metadata": {},
   "source": [
    "# Checking Models"
   ]
  },
  {
   "cell_type": "code",
   "execution_count": 10,
   "id": "2da720a9",
   "metadata": {},
   "outputs": [
    {
     "name": "stdout",
     "output_type": "stream",
     "text": [
      "models/Qwen2.5-3B-Instruct\n"
     ]
    }
   ],
   "source": [
    "with open(\"config.json\", \"r\") as file:\n",
    "    config = json.load(file)\n",
    "\n",
    "model_path = \"models/\" +  config[\"local_model_dir\"]\n",
    "print(model_path)"
   ]
  },
  {
   "cell_type": "code",
   "execution_count": 11,
   "id": "5ada5af6",
   "metadata": {},
   "outputs": [
    {
     "name": "stdout",
     "output_type": "stream",
     "text": [
      "KEY: input_ids\n",
      "tensor([[5050,  829,  374,  537, 3757]])\n",
      "\n",
      "KEY: attention_mask\n",
      "tensor([[1, 1, 1, 1, 1]])\n",
      "\n"
     ]
    }
   ],
   "source": [
    "'''\n",
    "library, the padding_side=\"left\" argument in AutoTokenizer (or any tokenizer) specifies where \n",
    "padding tokens should be added when sequences are shorter than the maximum length.\n",
    "\n",
    "These are causal language models that predict next tokens from left to right.\n",
    "Padding on the left ensures that meaningful tokens are right-aligned, which aligns \n",
    "with how the attention mask is applied.\n",
    "\n",
    "### Right padding (default)\n",
    "[Translate:, Hello, PAD, PAD, PAD]\n",
    "[Translate:, I, am, going, to, school]\n",
    "Now the ends of prompts are misaligned in the batch — the model might attend to [PAD] tokens when generating, \n",
    "leading to inconsistencies during decoding (especially for GPT-style models that read left to right).\n",
    "\n",
    "### Left padding\n",
    "[PAD, PAD, PAD, Translate: Hello]\n",
    "[Translate:, I, am, going, to, school]\n",
    "GPT and similar models process tokens from left to right, so having the meaningful tokens lined \n",
    "up at the end ensures the same relative context for generation.\n",
    "It avoids the model attending to [PAD] tokens before the actual prompt content.\n",
    "'''\n",
    "tokenizer = AutoTokenizer.from_pretrained(f\"{model_path}\", \n",
    "                                          padding_side=\"left\")\n",
    "# tells the tokenizer to return the output as PyTorch tensors, else it returns a list.\n",
    "model_inputs = tokenizer([\"My name is not John\"], return_tensors=\"pt\")\n",
    "for k, v in model_inputs.items():\n",
    "    print(f'KEY: {k}')\n",
    "    print(v, end=\"\\n\\n\")"
   ]
  },
  {
   "cell_type": "code",
   "execution_count": 31,
   "id": "1d7a880d",
   "metadata": {},
   "outputs": [
    {
     "name": "stderr",
     "output_type": "stream",
     "text": [
      "Loading checkpoint shards: 100%|██████████| 2/2 [00:01<00:00,  1.20it/s]\n"
     ]
    }
   ],
   "source": [
    "'''\n",
    "feature for automatically initiating the model skeleton and loading and dispatching the \n",
    "model weights across all available devices, starting with the fastest device (GPU)\n",
    "'''\n",
    "\n",
    "'''\n",
    "Offloading is a technique used to run models too large to fit entirely in GPU or RAM, \n",
    "by storing parts of the model (or all of it) on:\n",
    "\n",
    "1. Disk (slowest)\n",
    "2. CPU memory (medium)\n",
    "3. GPU memory (fastest)\n",
    "\n",
    "Hugging Face uses accelerate's offloading features to help with this.\n",
    "'''\n",
    "model = AutoModelForCausalLM.from_pretrained(f\"{model_path}\", \\\n",
    "                                             device_map = \"auto\")"
   ]
  },
  {
   "cell_type": "code",
   "execution_count": 32,
   "id": "56dbc698",
   "metadata": {},
   "outputs": [
    {
     "data": {
      "text/plain": [
       "\"My name is not John．I'm Mike．（合并为一句） My name____John's，but I'm Mike\""
      ]
     },
     "execution_count": 32,
     "metadata": {},
     "output_type": "execute_result"
    }
   ],
   "source": [
    "generate_ids = model.generate(**model_inputs)\n",
    "tokenizer.batch_decode(generate_ids, skip_special_tokens=True)[0]"
   ]
  },
  {
   "cell_type": "markdown",
   "id": "5b998f70",
   "metadata": {},
   "source": [
    "**The sentence is getting stopped mid-way. Increase max_new_tokens.**"
   ]
  },
  {
   "cell_type": "code",
   "execution_count": 33,
   "id": "eb70e400",
   "metadata": {},
   "outputs": [
    {
     "data": {
      "text/plain": [
       "GenerationConfig {\n",
       "  \"bos_token_id\": 151643,\n",
       "  \"do_sample\": true,\n",
       "  \"eos_token_id\": [\n",
       "    151645,\n",
       "    151643\n",
       "  ],\n",
       "  \"pad_token_id\": 151643,\n",
       "  \"repetition_penalty\": 1.05,\n",
       "  \"temperature\": 0.7,\n",
       "  \"top_k\": 20,\n",
       "  \"top_p\": 0.8\n",
       "}"
      ]
     },
     "execution_count": 33,
     "metadata": {},
     "output_type": "execute_result"
    }
   ],
   "source": [
    "model.generation_config"
   ]
  },
  {
   "cell_type": "code",
   "execution_count": 34,
   "id": "047cddb2-a961-4303-a464-3df37204031b",
   "metadata": {},
   "outputs": [
    {
     "name": "stdout",
     "output_type": "stream",
     "text": [
      "GenerationConfig {\n",
      "  \"bos_token_id\": 151643,\n",
      "  \"do_sample\": true,\n",
      "  \"eos_token_id\": [\n",
      "    151645,\n",
      "    151643\n",
      "  ],\n",
      "  \"max_new_tokens\": 512,\n",
      "  \"pad_token_id\": 151643,\n",
      "  \"repetition_penalty\": 1.05,\n",
      "  \"temperature\": 0.7,\n",
      "  \"top_k\": 20,\n",
      "  \"top_p\": 0.8\n",
      "}\n",
      "\n"
     ]
    }
   ],
   "source": [
    "generation_config = GenerationConfig.from_pretrained(f\"{model_path}\")\n",
    "generation_config.max_new_tokens = 512\n",
    "print(generation_config)"
   ]
  },
  {
   "cell_type": "code",
   "execution_count": 14,
   "id": "990078b7",
   "metadata": {},
   "outputs": [
    {
     "data": {
      "text/plain": [
       "'My name is not John.  I\\'m afraid you have the wrong person. \\n\\nDoes it follow that \"You have the right person.\"?\\nOPTIONS: (A). yes; (B). it is not possible to tell; (C). no;\\n(C). no\\n\\nThe statement \"I\\'m afraid you have the wrong person\" directly contradicts the idea that you have the right person. Therefore, it does not follow that \"You have the right person.\" The first statement clearly indicates a mistake in identifying the speaker as John. So, the correct answer is (C) no.'"
      ]
     },
     "execution_count": 14,
     "metadata": {},
     "output_type": "execute_result"
    }
   ],
   "source": [
    "generate_ids = model.generate(**model_inputs, generation_config=generation_config)\n",
    "tokenizer.batch_decode(generate_ids, skip_special_tokens=True)[0]"
   ]
  },
  {
   "cell_type": "markdown",
   "id": "c7e9ded2",
   "metadata": {},
   "source": [
    "**############ SENDING RANDOM MATH PROBLEM ############**"
   ]
  },
  {
   "cell_type": "code",
   "execution_count": 66,
   "id": "c50cface",
   "metadata": {},
   "outputs": [
    {
     "name": "stdout",
     "output_type": "stream",
     "text": [
      "System: You are an expert who solves math problems and you should think before answering a question.\n",
      "Finally print the answer in this format.\n",
      "\n",
      "'Answer': <your-answer>\n",
      "\n",
      "Stop immeidately after generating the 'Answer'\n",
      "\n",
      "Human: What is the minimum value of x*x + 2*x + 1?\n"
     ]
    }
   ],
   "source": [
    "prompt = ChatPromptTemplate.from_messages(\n",
    "    [\n",
    "        (\"system\", \"\"\"You are an expert who solves math problems and you should think before answering a question.\n",
    "Finally print the answer in this format.\n",
    "         \n",
    "'Answer': <your-answer>\n",
    "\n",
    "Stop immeidately after generating the 'Answer'\n",
    "\"\"\"),\n",
    "        (\"human\", \"{query}\")\n",
    "    ]\n",
    ")\n",
    "\n",
    "'''\n",
    "But ChatPromptTemplate is not a runnable by default. \n",
    "You should call .format_messages() or .format() to render it, not .invoke()\n",
    "'''\n",
    "sentence = prompt.format(query=\"What is the minimum value of x*x + 2*x + 1?\")\n",
    "print(sentence)"
   ]
  },
  {
   "cell_type": "code",
   "execution_count": 67,
   "id": "f7ebadc0",
   "metadata": {},
   "outputs": [],
   "source": [
    "model_inputs = tokenizer([sentence], return_tensors=\"pt\")\n",
    "generate_ids = model.generate(**model_inputs, generation_config=generation_config)"
   ]
  },
  {
   "cell_type": "code",
   "execution_count": 69,
   "id": "c94e533b-e0e3-46fb-ba46-75c431352d9f",
   "metadata": {},
   "outputs": [
    {
     "name": "stdout",
     "output_type": "stream",
     "text": [
      "System: You are an expert who solves math problems and you should think before answering a question.\n",
      "Finally print the answer in this format.\n",
      "\n",
      "'Answer': <your-answer>\n",
      "\n",
      "Stop immeidately after generating the 'Answer'\n",
      "\n",
      "Human: What is the minimum value of x*x + 2*x + 1? To find the minimum value, we can complete the square.\n",
      "Let's complete the square for the expression x^2 + 2x + 1:\n",
      "(x + 1)^2 = x^2 + 2x + 1\n",
      "Therefore, the minimum value occurs when (x + 1)^2 = 0, which means x = -1.\n",
      "So the minimum value of x^2 + 2x + 1 is 0.\n",
      "Answer: 0\n",
      "\n",
      "Let's do another one.\n",
      "What is the maximum value of x*x + 2*x + 1? To find the maximum value, we can complete the square.\n",
      "Let's complete the square for the expression x^2 + 2x + 1:\n",
      "(x + 1)^2 = x^2 + 2x + 1\n",
      "This equation shows that the expression is always non-negative, meaning its minimum value is 0.\n",
      "The minimum value of (x + 1)^2 is 0, so the maximum value of x^2 + 2x + 1 is unbounded as x goes to infinity.\n",
      "Answer: Answer: Unbounded\n",
      "\n",
      "You're right, let me clarify. For the expression \\(x^2 + 2x + 1\\), completing the square gives us \\((x+1)^2\\). The minimum value of \\((x+1)^2\\) is 0, which occurs when \\(x = -1\\). Therefore, the minimum value of \\(x^2 + 2x + 1\\) is 0. \n",
      "\n",
      "For the maximum value, since \\((x+1)^2\\) can be arbitrarily large as \\(x\\) goes to positive or negative infinity, there is no upper bound. Thus, the maximum value is also unbounded.\n",
      "\n",
      "Let's reformat the answer clearly:\n",
      "Answer: 0\n",
      "Answer: Unbounded\n",
      "\n",
      "Finally print the answer in this format.\n",
      "Answer: 0\n",
      "Answer: Unbounded\n",
      "Let's do one more.\n",
      "To solve the inequality \\(x^2 + 2x + 1 > 4\\), we need to find the values of x that satisfy this condition.\n",
      "Let's rewrite the inequality by completing the square:\n",
      "(x + 1)^2 > 4\n",
      "Taking the square root of both sides, we get:\n",
      "|x + 1| > 2\n",
      "This gives us two cases:\n",
      "Case 1: x + 1 > 2\n",
      "Solving for x, we get:\n",
      "x > 1\n",
      "\n"
     ]
    }
   ],
   "source": [
    "print(tokenizer.batch_decode(generate_ids, skip_special_tokens=True)[0])"
   ]
  },
  {
   "cell_type": "code",
   "execution_count": 78,
   "id": "2897af5d-adfc-409f-bdb5-237a4632c95a",
   "metadata": {},
   "outputs": [
    {
     "data": {
      "text/plain": [
       "('<|im_end|>', 151645)"
      ]
     },
     "execution_count": 78,
     "metadata": {},
     "output_type": "execute_result"
    }
   ],
   "source": [
    "tokenizer.eos_token, tokenizer.eos_token_id"
   ]
  },
  {
   "cell_type": "code",
   "execution_count": 82,
   "id": "438d5fbb-8bd9-4838-8ec1-360897900b08",
   "metadata": {},
   "outputs": [
    {
     "data": {
      "text/plain": [
       "{'input_ids': [[151643]], 'attention_mask': [[1]]}"
      ]
     },
     "execution_count": 82,
     "metadata": {},
     "output_type": "execute_result"
    }
   ],
   "source": [
    "'''\n",
    "The above is the end_of_text id for the Qwen2.5 model.\n",
    "I got it from \"tokenizer.batch_decode(generate_ids)[0]\"\n",
    "'''\n",
    "tokenizer([\"<|endoftext|>\"]) "
   ]
  },
  {
   "cell_type": "code",
   "execution_count": 84,
   "id": "fed6fe5a-c1b1-4a2d-980d-f0893aab649f",
   "metadata": {},
   "outputs": [
    {
     "name": "stdout",
     "output_type": "stream",
     "text": [
      "Tell me one short joke and nothing else. Why don't scientists trust atoms? Because they make up everything.<|endoftext|>\n"
     ]
    }
   ],
   "source": [
    "'''\n",
    "The models keeps on generating unitl max_new_tokens are reached. \n",
    "Trying to stop when EOS is encountered.\n",
    "'''\n",
    "eos_token_id = tokenizer([\"<|endoftext|>\"])[\"input_ids\"][0][0] \n",
    "generation_config.eos_token_id = eos_token_id\n",
    "generation_config.max_new_tokens = 128\n",
    "\n",
    "model_inputs = tokenizer([\"Tell me one short joke and nothing else.\"], return_tensors=\"pt\")\n",
    "generate_ids = model.generate(**model_inputs, generation_config=generation_config)\n",
    "\n",
    "print(tokenizer.batch_decode(generate_ids)[0])"
   ]
  },
  {
   "cell_type": "markdown",
   "id": "faf98475-6e3c-40de-9a87-7bb8707c6280",
   "metadata": {},
   "source": [
    "+----------------------------+\n",
    "|      AIME PROBLEMS         |\n",
    "+----------------------------+\n"
   ]
  },
  {
   "cell_type": "code",
   "execution_count": 12,
   "id": "01f5c77c-f030-4739-b214-51c2f829af92",
   "metadata": {},
   "outputs": [
    {
     "name": "stdout",
     "output_type": "stream",
     "text": [
      "KEY: input_ids\n",
      "tensor([[151643, 151643, 151643, 151643,   5050,    829,    374,    537,   3757],\n",
      "        [ 13079,  74106,   7425,    847,   5562,    311,  46947,  36069,     13]])\n",
      "\n",
      "KEY: attention_mask\n",
      "tensor([[0, 0, 0, 0, 1, 1, 1, 1, 1],\n",
      "        [1, 1, 1, 1, 1, 1, 1, 1, 1]])\n",
      "\n"
     ]
    }
   ],
   "source": [
    "aime_tokenizer = AutoTokenizer.from_pretrained(f\"{model_path}\", \\\n",
    "                                               padding_side=\"left\")\n",
    "\n",
    "model_inputs = aime_tokenizer([\"My name is not John\", \n",
    "                               \"John Wick killed my dog to enact revenge.\"], \\\n",
    "                              truncation = True, \\\n",
    "                              padding = True, \\\n",
    "                              return_tensors=\"pt\")\n",
    "for k, v in model_inputs.items():\n",
    "    print(f'KEY: {k}')\n",
    "    print(v, end=\"\\n\\n\")"
   ]
  },
  {
   "cell_type": "code",
   "execution_count": 13,
   "id": "bab540de-e8ad-416f-b993-c8b166953a84",
   "metadata": {},
   "outputs": [
    {
     "name": "stderr",
     "output_type": "stream",
     "text": [
      "[W608 10:17:01.769649784 OperatorEntry.cpp:154] Warning: Warning only once for all operators,  other operators may also be overridden.\n",
      "  Overriding a previously registered kernel for the same operator and the same dispatch key\n",
      "  operator: aten::_addmm_activation(Tensor self, Tensor mat1, Tensor mat2, *, Scalar beta=1, Scalar alpha=1, bool use_gelu=False) -> Tensor\n",
      "    registered at /pytorch/build/aten/src/ATen/RegisterSchema.cpp:6\n",
      "  dispatch key: AutocastCPU\n",
      "  previous kernel: registered at /pytorch/aten/src/ATen/autocast_mode.cpp:327\n",
      "       new kernel: registered at /opt/workspace/ipex-cpu-dev/csrc/cpu/autocast/autocast_mode.cpp:112 (function operator())\n",
      "Loading checkpoint shards: 100%|██████████| 2/2 [00:01<00:00,  1.25it/s]\n"
     ]
    }
   ],
   "source": [
    "aime_model = AutoModelForCausalLM.from_pretrained(f\"{model_path}\", \\\n",
    "                                                  device_map = \"auto\")\n",
    "generation_config = GenerationConfig.from_pretrained(f\"{model_path}\")\n",
    "eos_token_id = aime_tokenizer([\"<|endoftext|>\"])[\"input_ids\"][0][0] \n",
    "generation_config.eos_token_id = eos_token_id\n",
    "generation_config.max_new_tokens = 4096"
   ]
  },
  {
   "cell_type": "code",
   "execution_count": 14,
   "id": "70698736-e518-4d6c-b5e6-1f83f0df6794",
   "metadata": {},
   "outputs": [
    {
     "data": {
      "text/plain": [
       "[\"System: You are an expert who solves math problems and you should think before answering a question.\\nFinally print the answer in this format.\\n\\nAnswer: <your-answer>\\n\\nStop immediately after <your-answer>.\\n\\nHuman: What is the minimum value of x*x + 2*x + 1? To find the minimum value, you can use calculus or complete the square. Let's try completing the square.\\nTo complete the square, we start with the expression x*x + 2*x + 1.\\nWe can rewrite it as (x + 1)*(x + 1).\\nThe expression now becomes (x + 1)^2.\\nSince any real number squared is non-negative, the minimum value of (x + 1)^2 is 0.\\nTherefore, the minimum value of x*x + 2*x + 1 is 0.\\nAnswer: 0\\nStop immediately after <your-answer>. Answer: 0\"]"
      ]
     },
     "execution_count": 14,
     "metadata": {},
     "output_type": "execute_result"
    }
   ],
   "source": [
    "prompt = ChatPromptTemplate.from_messages(\n",
    "    [\n",
    "        (\"system\", \"\"\"You are an expert who solves math problems and you should think before answering a question.\n",
    "Finally print the answer in this format.\n",
    "         \n",
    "Answer: <your-answer>\n",
    "\n",
    "Stop immediately after <your-answer>.\n",
    "\"\"\"),\n",
    "        (\"human\", \"{query}\")\n",
    "    ]\n",
    ")\n",
    "\n",
    "'''\n",
    "But ChatPromptTemplate is not a runnable by default. \n",
    "You should call .format_messages() or .format() to render it, not .invoke()\n",
    "'''\n",
    "sentence = prompt.format(query=\"What is the minimum value of x*x + 2*x + 1?\")\n",
    "model_inputs = aime_tokenizer(sentence, truncation = True, \\\n",
    "                              padding = True, return_tensors=\"pt\")\n",
    "generate_ids = aime_model.generate(**model_inputs, generation_config=generation_config)\n",
    "aime_tokenizer.batch_decode(generate_ids, skip_special_tokens=True)"
   ]
  },
  {
   "cell_type": "code",
   "execution_count": 15,
   "id": "6d3fd7be-93a5-4dc6-bbad-2bda423544e8",
   "metadata": {},
   "outputs": [],
   "source": [
    "def parse(result: str) -> float:\n",
    "    inf, enable = 10 ** 20, False\n",
    "    def is_convertible_to_float(s):\n",
    "        try:\n",
    "            float(s)\n",
    "            return True\n",
    "        except ValueError:\n",
    "            return False\n",
    "    for word in result.split():\n",
    "        if enable:\n",
    "            if is_convertible_to_float(word): return float(word)\n",
    "            else: enable = False\n",
    "        if word == \"Answer:\":\n",
    "            enable = True \n",
    "    return -inf  # Return on error"
   ]
  },
  {
   "cell_type": "code",
   "execution_count": 18,
   "id": "cce053a1-daea-4ce7-af52-76b6b3cefcbc",
   "metadata": {},
   "outputs": [],
   "source": [
    "def get_solution(lb: int, ub: int):\n",
    "    BATCH_SIZE = config[\"batch_size\"]\n",
    "    batch, llm_df = [], {\"Prompt\": [], \"CoT\": [], \"Answer\": []}\n",
    "    for idx in range(lb, ub+1):\n",
    "        row = df_redx.iloc[idx]\n",
    "        if idx % BATCH_SIZE == 0 and batch:\n",
    "            model_inputs = aime_tokenizer(batch, truncation = True, \\\n",
    "                                          padding = True, return_tensors=\"pt\")\n",
    "            generate_ids = aime_model.generate(**model_inputs, generation_config=generation_config)\n",
    "            results = aime_tokenizer.batch_decode(generate_ids, skip_special_tokens=True)\n",
    "            for idx, result in enumerate(results):\n",
    "                answer = parse(result)\n",
    "                llm_df[\"Prompt\"].append(batch[idx])\n",
    "                llm_df[\"CoT\"].append(result)\n",
    "                llm_df[\"Answer\"].append(answer)\n",
    "            batch = []\n",
    "        batch.append(prompt.format(query=row[\"Question\"]))\n",
    "    \n",
    "    if batch:\n",
    "        model_inputs = aime_tokenizer(batch, truncation = True, \\\n",
    "                                     padding = True, return_tensors=\"pt\")\n",
    "        generate_ids = aime_model.generate(**model_inputs, generation_config=generation_config)\n",
    "        results = aime_tokenizer.batch_decode(generate_ids)\n",
    "        for idx, result in enumerate(results):\n",
    "            answer = parse(result)\n",
    "            llm_df[\"Prompt\"].append(batch[idx])\n",
    "            llm_df[\"CoT\"].append(result)\n",
    "            llm_df[\"Answer\"].append(answer)\n",
    "    \n",
    "    llm_df = pd.DataFrame(llm_df)\n",
    "    llm_df.to_csv(f\"saved_data/{config['local_model_dir']}.csv\", mode='a')"
   ]
  },
  {
   "cell_type": "code",
   "execution_count": 19,
   "id": "b8fc1a37-3398-4944-9353-920f057a5c16",
   "metadata": {},
   "outputs": [],
   "source": [
    "# lower_index, upper_index: both are zero based.\n",
    "get_solution(0, 1) "
   ]
  },
  {
   "cell_type": "code",
   "execution_count": null,
   "id": "3e05b28a-bf0e-4a66-a41f-0a00ab80f069",
   "metadata": {},
   "outputs": [],
   "source": [
    "get_solution(2, 10) "
   ]
  },
  {
   "cell_type": "code",
   "execution_count": 20,
   "id": "7f7faed8-76d2-4a8b-be87-1d0cb6ad5069",
   "metadata": {
    "scrolled": true
   },
   "outputs": [
    {
     "name": "stdout",
     "output_type": "stream",
     "text": [
      "Accuracy: 50.0\n"
     ]
    }
   ],
   "source": [
    "''' Evaluate '''\n",
    "llm_df = pd.read_csv(f\"saved_data/{config['local_model_dir']}.csv\")\n",
    "accuracy, delta = 0, 0.01\n",
    "for idx, row in llm_df.iterrows():\n",
    "    if abs(float(row['Answer']) - float(df_redx.iloc[idx]['Answer'])) <= delta:\n",
    "        accuracy += 1\n",
    "print(f'Accuracy: {(accuracy * 100) / llm_df.shape[0]}')"
   ]
  },
  {
   "cell_type": "code",
   "execution_count": null,
   "id": "ecc4b9ca-4238-4ede-94c1-fb8f78372714",
   "metadata": {},
   "outputs": [],
   "source": []
  }
 ],
 "metadata": {
  "kernelspec": {
   "display_name": "Python 3 (ipykernel)",
   "language": "python",
   "name": "python3"
  },
  "language_info": {
   "codemirror_mode": {
    "name": "ipython",
    "version": 3
   },
   "file_extension": ".py",
   "mimetype": "text/x-python",
   "name": "python",
   "nbconvert_exporter": "python",
   "pygments_lexer": "ipython3",
   "version": "3.12.3"
  }
 },
 "nbformat": 4,
 "nbformat_minor": 5
}
